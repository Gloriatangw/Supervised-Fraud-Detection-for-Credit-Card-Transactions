{
 "cells": [
  {
   "cell_type": "code",
   "execution_count": 64,
   "metadata": {},
   "outputs": [],
   "source": [
    "import pandas as pd\n",
    "import numpy as np\n",
    "#import matplotlib.pyplot as plt\n",
    "#import seaborn as sns\n",
    "import os,re,time\n",
    "from collections import Counter\n",
    "from scipy import stats"
   ]
  },
  {
   "cell_type": "code",
   "execution_count": 65,
   "metadata": {},
   "outputs": [],
   "source": [
    "test=pd.read_csv(\"test.csv\")\n",
    "oot=pd.read_csv(\"out_of_date.csv\")\n",
    "data = pd.read_csv('smote_train_fraud.csv')"
   ]
  },
  {
   "cell_type": "code",
   "execution_count": 66,
   "metadata": {},
   "outputs": [
    {
     "name": "stdout",
     "output_type": "stream",
     "text": [
      "cardnum_amount_avg_30\n",
      "cardnum_amount_avg_15\n",
      "cardnum_amount_avg_7\n",
      "cardnum_amount_avg_3\n",
      "cardnum_amount_avg_1\n",
      "cardnum_amount_max_30\n",
      "cardnum_amount_max_15\n",
      "cardnum_amount_max_7\n",
      "cardnum_amount_max_3\n",
      "cardnum_amount_max_1\n",
      "cardnum_amount_sum_30\n",
      "cardnum_amount_sum_15\n",
      "cardnum_amount_sum_7\n",
      "cardnum_amount_sum_3\n",
      "cardnum_amount_sum_1\n",
      "cardnum_amount_week_diff_avg_30\n",
      "cardnum_amount_week_diff_avg_15\n",
      "cardnum_amount_week_diff_avg_7\n",
      "cardnum_amount_week_diff_avg_3\n",
      "cardnum_amount_week_diff_avg_1\n",
      "cardnum_amount_week_diff_max_30\n",
      "cardnum_amount_week_diff_max_15\n",
      "cardnum_amount_week_diff_max_7\n",
      "cardnum_amount_week_diff_max_3\n",
      "cardnum_amount_week_diff_max_1\n",
      "cardnum_amount_week_diff_sum_30\n",
      "cardnum_amount_week_diff_sum_15\n",
      "cardnum_amount_week_diff_sum_7\n",
      "cardnum_amount_week_diff_sum_3\n",
      "cardnum_amount_week_diff_sum_1\n",
      "cardnum_amount_month_diff_avg_30\n",
      "cardnum_amount_month_diff_avg_15\n",
      "cardnum_amount_month_diff_avg_7\n",
      "cardnum_amount_month_diff_avg_3\n",
      "cardnum_amount_month_diff_avg_1\n",
      "cardnum_amount_month_diff_max_30\n",
      "cardnum_amount_month_diff_max_15\n",
      "cardnum_amount_month_diff_max_7\n",
      "cardnum_amount_month_diff_max_3\n",
      "cardnum_amount_month_diff_max_1\n",
      "cardnum_amount_month_diff_sum_30\n",
      "cardnum_amount_month_diff_sum_15\n",
      "cardnum_amount_month_diff_sum_7\n",
      "cardnum_amount_month_diff_sum_3\n",
      "cardnum_amount_month_diff_sum_1\n",
      "cardnum_30\n",
      "cardnum_15\n",
      "cardnum_7\n",
      "cardnum_3\n",
      "cardnum_1\n",
      "newmerch_30\n",
      "newmerch_15\n",
      "newmerch_7\n",
      "newmerch_3\n",
      "newmerch_1\n",
      "cardnum_merchantnum_30\n",
      "cardnum_merchantnum_15\n",
      "cardnum_merchantnum_7\n",
      "cardnum_merchantnum_3\n",
      "cardnum_merchantnum_1\n",
      "cardnum_merchantnum_isna_30\n",
      "cardnum_merchantnum_isna_15\n",
      "cardnum_merchantnum_isna_7\n",
      "cardnum_merchantnum_isna_3\n",
      "cardnum_merchantnum_isna_1\n",
      "cardnum_zip_30\n",
      "cardnum_zip_15\n",
      "cardnum_zip_7\n",
      "cardnum_zip_3\n",
      "cardnum_zip_1\n",
      "cardnum_zip_isna_30\n",
      "cardnum_zip_isna_15\n",
      "cardnum_zip_isna_7\n",
      "cardnum_zip_isna_3\n",
      "cardnum_zip_isna_1\n",
      "cardnum_state_30\n",
      "cardnum_state_15\n",
      "cardnum_state_7\n",
      "cardnum_state_3\n",
      "cardnum_state_1\n",
      "cardnum_state_isna_30\n",
      "cardnum_state_isna_15\n",
      "cardnum_state_isna_7\n",
      "cardnum_state_isna_3\n",
      "cardnum_state_isna_1\n",
      "merchantnum_amount_avg_30\n",
      "merchantnum_amount_avg_15\n",
      "merchantnum_amount_avg_7\n",
      "merchantnum_amount_avg_3\n",
      "merchantnum_amount_avg_1\n",
      "merchantnum_amount_max_30\n",
      "merchantnum_amount_max_15\n",
      "merchantnum_amount_max_7\n",
      "merchantnum_amount_max_3\n",
      "merchantnum_amount_max_1\n",
      "merchantnum_amount_sum_30\n",
      "merchantnum_amount_sum_15\n",
      "merchantnum_amount_sum_7\n",
      "merchantnum_amount_sum_3\n",
      "merchantnum_amount_sum_1\n",
      "merchantnum_amount_week_diff_avg_30\n",
      "merchantnum_amount_week_diff_avg_15\n",
      "merchantnum_amount_week_diff_avg_7\n",
      "merchantnum_amount_week_diff_avg_3\n",
      "merchantnum_amount_week_diff_avg_1\n",
      "merchantnum_amount_week_diff_max_30\n",
      "merchantnum_amount_week_diff_max_15\n",
      "merchantnum_amount_week_diff_max_7\n",
      "merchantnum_amount_week_diff_max_3\n",
      "merchantnum_amount_week_diff_max_1\n",
      "merchantnum_amount_week_diff_sum_30\n",
      "merchantnum_amount_week_diff_sum_15\n",
      "merchantnum_amount_week_diff_sum_7\n",
      "merchantnum_amount_week_diff_sum_3\n",
      "merchantnum_amount_week_diff_sum_1\n",
      "merchantnum_amount_month_diff_avg_30\n",
      "merchantnum_amount_month_diff_avg_15\n",
      "merchantnum_amount_month_diff_avg_7\n",
      "merchantnum_amount_month_diff_avg_3\n",
      "merchantnum_amount_month_diff_avg_1\n",
      "merchantnum_amount_month_diff_max_30\n",
      "merchantnum_amount_month_diff_max_15\n",
      "merchantnum_amount_month_diff_max_7\n",
      "merchantnum_amount_month_diff_max_3\n",
      "merchantnum_amount_month_diff_max_1\n",
      "merchantnum_amount_month_diff_sum_30\n",
      "merchantnum_amount_month_diff_sum_15\n",
      "merchantnum_amount_month_diff_sum_7\n",
      "merchantnum_amount_month_diff_sum_3\n",
      "merchantnum_amount_month_diff_sum_1\n",
      "merchantnum_30\n",
      "merchantnum_15\n",
      "merchantnum_7\n",
      "merchantnum_3\n",
      "merchantnum_1\n",
      "merchantnum_cardnum_30\n",
      "merchantnum_cardnum_15\n",
      "merchantnum_cardnum_7\n",
      "merchantnum_cardnum_3\n",
      "merchantnum_cardnum_1\n",
      "merchantnum_zip_30\n",
      "merchantnum_zip_15\n",
      "merchantnum_zip_7\n",
      "merchantnum_zip_3\n",
      "merchantnum_zip_1\n",
      "merchantnum_zip_isna_30\n",
      "merchantnum_zip_isna_15\n",
      "merchantnum_zip_isna_7\n",
      "merchantnum_zip_isna_3\n",
      "merchantnum_zip_isna_1\n",
      "merchantnum_state_30\n",
      "merchantnum_state_15\n",
      "merchantnum_state_7\n",
      "merchantnum_state_3\n",
      "merchantnum_state_1\n",
      "merchantnum_state_isna_30\n",
      "merchantnum_state_isna_15\n",
      "merchantnum_state_isna_7\n",
      "merchantnum_state_isna_3\n",
      "merchantnum_state_isna_1\n",
      "Fraud\n"
     ]
    }
   ],
   "source": [
    "for i in oot.columns:\n",
    "    print i"
   ]
  },
  {
   "cell_type": "code",
   "execution_count": 68,
   "metadata": {},
   "outputs": [
    {
     "data": {
      "text/plain": [
       "(13629, 161)"
      ]
     },
     "execution_count": 68,
     "metadata": {},
     "output_type": "execute_result"
    }
   ],
   "source": [
    "data.shape"
   ]
  },
  {
   "cell_type": "code",
   "execution_count": 69,
   "metadata": {},
   "outputs": [
    {
     "data": {
      "text/plain": [
       "(12390, 161)"
      ]
     },
     "execution_count": 69,
     "metadata": {},
     "output_type": "execute_result"
    }
   ],
   "source": [
    "goods = data.query('Fraud == 0')\n",
    "goods.shape"
   ]
  },
  {
   "cell_type": "code",
   "execution_count": 70,
   "metadata": {},
   "outputs": [
    {
     "data": {
      "text/plain": [
       "(1239, 161)"
      ]
     },
     "execution_count": 70,
     "metadata": {},
     "output_type": "execute_result"
    }
   ],
   "source": [
    "bads = data.query('Fraud == 1')\n",
    "bads.shape"
   ]
  },
  {
   "cell_type": "code",
   "execution_count": null,
   "metadata": {},
   "outputs": [],
   "source": []
  },
  {
   "cell_type": "code",
   "execution_count": 71,
   "metadata": {},
   "outputs": [
    {
     "name": "stdout",
     "output_type": "stream",
     "text": [
      "time elapsed: 0.33\n"
     ]
    }
   ],
   "source": [
    "start = time.time()\n",
    "\n",
    "variables = np.array([])\n",
    "scores = np.array([])\n",
    "for v in data.columns[:-1]:\n",
    "    variable = v\n",
    "    ks = stats.ks_2samp(goods[v], bads[v])\n",
    "    variables = np.hstack((variables,v))\n",
    "    scores = np.hstack((scores,ks[0]))\n",
    "end = time.time() \n",
    "print('time elapsed: {:.2f}'.format(end-start))"
   ]
  },
  {
   "cell_type": "code",
   "execution_count": 72,
   "metadata": {},
   "outputs": [
    {
     "data": {
      "text/plain": [
       "array([0.56238902, 0.5566586 , 0.55544794, 0.55472155, 0.5527845 ,\n",
       "       0.55100888, 0.55012107, 0.54850686, 0.5472155 , 0.54713479,\n",
       "       0.54681195, 0.54269572, 0.54188862, 0.54140436, 0.53866021,\n",
       "       0.53849879, 0.53163842, 0.53123487, 0.53123487, 0.53050847,\n",
       "       0.52841001, 0.52025827, 0.51912833, 0.51436642, 0.51073446,\n",
       "       0.5102502 , 0.50992736, 0.50903955, 0.5079096 , 0.50726392,\n",
       "       0.5071025 , 0.50540759, 0.50524617, 0.50524617, 0.5047619 ,\n",
       "       0.50379338, 0.50274415, 0.50064568, 0.49636804, 0.49386602,\n",
       "       0.49184826, 0.49128329, 0.49079903, 0.48878128, 0.48845843,\n",
       "       0.48410008, 0.48337369, 0.48240517, 0.47828894, 0.47441485,\n",
       "       0.46093624, 0.4582728 , 0.45520581, 0.45383374, 0.45294592,\n",
       "       0.45108959, 0.44931396, 0.44818402, 0.44535916, 0.44447135,\n",
       "       0.44358354, 0.43769169, 0.43599677, 0.43470541, 0.43389831,\n",
       "       0.43204197, 0.43091203, 0.43026634, 0.42800646, 0.42776433,\n",
       "       0.42623083, 0.42606941, 0.42558515, 0.39225182, 0.39160613,\n",
       "       0.38547215, 0.38071025, 0.38046812, 0.3787732 , 0.37836965,\n",
       "       0.3763519 , 0.37546408, 0.37538337, 0.37457627, 0.37449556,\n",
       "       0.36682809, 0.36594027, 0.36594027, 0.34697337, 0.3464891 ,\n",
       "       0.33688458, 0.30928168, 0.29975787, 0.29895077, 0.28337369,\n",
       "       0.28321227, 0.27828894, 0.27506053, 0.27191283, 0.26973366,\n",
       "       0.26618241, 0.26077482, 0.24713479, 0.22671509, 0.22453592,\n",
       "       0.21315577, 0.20839387, 0.20500404, 0.19669088, 0.18991122,\n",
       "       0.18805488, 0.18732849, 0.18700565, 0.18288943, 0.18175948,\n",
       "       0.18046812, 0.17393059, 0.17021792, 0.16844229, 0.16803874,\n",
       "       0.16634383, 0.1645682 , 0.16384181, 0.16214689, 0.1574657 ,\n",
       "       0.1566586 , 0.15044391, 0.14285714, 0.14196933, 0.12768362,\n",
       "       0.1165456 , 0.11606134, 0.11581921, 0.11113801, 0.10984665,\n",
       "       0.10153349, 0.1008071 , 0.09846651, 0.09313963, 0.08611784,\n",
       "       0.07150928, 0.05778854, 0.05577078, 0.05488297, 0.05108959,\n",
       "       0.03333333, 0.02542373, 0.02114609, 0.01622276, 0.0117837 ,\n",
       "       0.01008878, 0.01008878, 0.01008878, 0.01008878, 0.01008878,\n",
       "       0.01008878, 0.01008878, 0.00976594, 0.00976594, 0.00960452])"
      ]
     },
     "execution_count": 72,
     "metadata": {},
     "output_type": "execute_result"
    }
   ],
   "source": [
    "scores[np.argsort(-scores)]"
   ]
  },
  {
   "cell_type": "code",
   "execution_count": 73,
   "metadata": {},
   "outputs": [
    {
     "name": "stdout",
     "output_type": "stream",
     "text": [
      "['cardnum_amount_month_diff_avg_1' 'cardnum_amount_month_diff_sum_1'\n",
      " 'cardnum_amount_month_diff_avg_3' 'cardnum_amount_avg_1'\n",
      " 'cardnum_amount_avg_3' 'cardnum_amount_week_diff_avg_1'\n",
      " 'cardnum_amount_month_diff_sum_3' 'merchantnum_amount_month_diff_max_1'\n",
      " 'cardnum_amount_week_diff_avg_3' 'cardnum_amount_week_diff_sum_3'\n",
      " 'cardnum_amount_week_diff_sum_1' 'merchantnum_amount_month_diff_avg_1'\n",
      " 'merchantnum_amount_max_1' 'merchantnum_amount_week_diff_max_1'\n",
      " 'cardnum_amount_month_diff_max_1' 'merchantnum_amount_sum_1'\n",
      " 'cardnum_amount_sum_1' 'cardnum_amount_max_1' 'merchantnum_amount_avg_1'\n",
      " 'cardnum_amount_week_diff_max_1' 'merchantnum_amount_week_diff_avg_1'\n",
      " 'cardnum_amount_week_diff_sum_7' 'cardnum_amount_month_diff_sum_7'\n",
      " 'merchantnum_amount_month_diff_max_3' 'cardnum_amount_avg_7'\n",
      " 'cardnum_amount_sum_3' 'merchantnum_amount_max_3'\n",
      " 'cardnum_amount_month_diff_avg_7' 'merchantnum_amount_week_diff_max_3'\n",
      " 'merchantnum_amount_month_diff_sum_1' 'cardnum_amount_month_diff_sum_15'\n",
      " 'cardnum_amount_week_diff_sum_15' 'merchantnum_amount_month_diff_avg_3'\n",
      " 'cardnum_amount_month_diff_max_3' 'cardnum_amount_week_diff_avg_7'\n",
      " 'cardnum_amount_week_diff_max_3' 'cardnum_amount_max_3'\n",
      " 'merchantnum_amount_avg_3' 'merchantnum_amount_week_diff_avg_3'\n",
      " 'merchantnum_amount_week_diff_sum_1' 'cardnum_amount_month_diff_avg_15'\n",
      " 'Fraud']\n"
     ]
    }
   ],
   "source": [
    "variable=variables[np.argsort(-scores)][0:41]\n",
    "variable=np.append(variable,\"Fraud\")\n",
    "print variable"
   ]
  },
  {
   "cell_type": "code",
   "execution_count": 74,
   "metadata": {},
   "outputs": [],
   "source": [
    "train=data[variable]\n",
    "test=test[variable]\n",
    "oot=oot[variable]"
   ]
  },
  {
   "cell_type": "code",
   "execution_count": 77,
   "metadata": {},
   "outputs": [],
   "source": [
    "train.to_csv('train after ks.csv',index=False)\n",
    "test.to_csv(\"test after ks.csv\",index=False)\n",
    "oot.to_csv('out_of_date after ks.csv',index=False)"
   ]
  }
 ],
 "metadata": {
  "kernelspec": {
   "display_name": "Python 2",
   "language": "python",
   "name": "python2"
  },
  "language_info": {
   "codemirror_mode": {
    "name": "ipython",
    "version": 2
   },
   "file_extension": ".py",
   "mimetype": "text/x-python",
   "name": "python",
   "nbconvert_exporter": "python",
   "pygments_lexer": "ipython2",
   "version": "2.7.14"
  }
 },
 "nbformat": 4,
 "nbformat_minor": 2
}
